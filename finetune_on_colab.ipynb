{
  "cells": [
    {
      "cell_type": "code",
      "execution_count": null,
      "metadata": {
        "id": "jlyKK3MsbD7V"
      },
      "outputs": [],
      "source": [
        "# Install required libraries\n",
        "!pip install torch torchvision pillow einops"
      ]
    },
    {
      "cell_type": "code",
      "execution_count": null,
      "metadata": {
        "id": "HX5nDBrdbhsm"
      },
      "outputs": [],
      "source": [
        "%cd /content/drive/MyDrive/XAI_project"
      ]
    },
    {
      "cell_type": "code",
      "execution_count": null,
      "metadata": {
        "id": "TkMJr4b7v7ba"
      },
      "outputs": [],
      "source": [
        "import finetune_ViT as FTV\n",
        "\n",
        "finetuner = FTV.FineTuneViT(model_name='vit_base_patch16_224', num_classes=10, dataset_path='../data/images_original')\n",
        "finetuner.train()\n"
      ]
    }
  ],
  "metadata": {
    "colab": {
      "provenance": []
    },
    "kernelspec": {
      "display_name": "Python 3",
      "name": "python3"
    },
    "language_info": {
      "name": "python"
    }
  },
  "nbformat": 4,
  "nbformat_minor": 0
}
